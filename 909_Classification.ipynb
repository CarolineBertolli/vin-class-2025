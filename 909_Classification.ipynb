{
  "nbformat": 4,
  "nbformat_minor": 0,
  "metadata": {
    "colab": {
      "provenance": [],
      "authorship_tag": "ABX9TyOJ6to9hBDkqzLZ66VBGCNA",
      "include_colab_link": true
    },
    "kernelspec": {
      "name": "python3",
      "display_name": "Python 3"
    },
    "language_info": {
      "name": "python"
    }
  },
  "cells": [
    {
      "cell_type": "markdown",
      "metadata": {
        "id": "view-in-github",
        "colab_type": "text"
      },
      "source": [
        "<a href=\"https://colab.research.google.com/github/CarolineBertolli/vin-class-2025/blob/main/909_Classification.ipynb\" target=\"_parent\"><img src=\"https://colab.research.google.com/assets/colab-badge.svg\" alt=\"Open In Colab\"/></a>"
      ]
    },
    {
      "cell_type": "markdown",
      "source": [],
      "metadata": {
        "id": "Nt7EUP_VHZv-"
      }
    },
    {
      "cell_type": "code",
      "execution_count": null,
      "metadata": {
        "id": "lMhKpy_W8MSU"
      },
      "outputs": [],
      "source": [
        "import ee\n",
        "import geemap\n",
        "import numpy as np\n",
        "import pandas as pd\n",
        "import matplotlib.pyplot as plt\n",
        "import geopandas as gpd\n"
      ]
    },
    {
      "cell_type": "code",
      "source": [
        "# Trigger the authentication flow.\n",
        "ee.Authenticate()\n",
        "\n",
        "# Initialize the library.\n",
        "ee.Initialize(project='capstone-462002')"
      ],
      "metadata": {
        "id": "pugoPMqyHjfM"
      },
      "execution_count": null,
      "outputs": []
    },
    {
      "cell_type": "code",
      "source": [
        "WestCoastAVAs = r'/WestCoastAVAs.shp'"
      ],
      "metadata": {
        "id": "iH8L-VMsQrr-"
      },
      "execution_count": null,
      "outputs": []
    },
    {
      "cell_type": "code",
      "source": [
        "# Read the shapefile directly into a GeoDataFrame\n",
        "shp = gpd.read_file(WestCoastAVAs)\n",
        "\n",
        "# Now you can work with the shp GeoDataFrame\n",
        "print(shp)"
      ],
      "metadata": {
        "id": "y4GJ8O9-XDhr"
      },
      "execution_count": null,
      "outputs": []
    },
    {
      "cell_type": "code",
      "source": [
        "cGDD = 0\n",
        "cHI = 0\n",
        "\n",
        "\n",
        "def calculate_GDD(image):\n",
        "  return ((tmax + tmin)/2 - 10).rename('GDD')\n",
        "  cGDD = cGDD.add(GDD)\n",
        "  return cGDD\n",
        "\n",
        "def calculate_HI(image, d):\n",
        "  return (d((tmean + tmax)/2 - 10)).rename('HI')\n",
        "  cHI = cHI.add(HI)\n",
        "  return cHI"
      ],
      "metadata": {
        "id": "CeZtT-EOf4VK"
      },
      "execution_count": null,
      "outputs": []
    },
    {
      "cell_type": "code",
      "source": [
        "for index, row in shp.iterrows(): # Iterate over rows to get individual features\n",
        "    AVA_geometry = row.geometry # Access the geometry of the current AVA\n",
        "\n",
        "    year = 2000\n",
        "    start = '-04-01'\n",
        "    end = '-09-30'\n",
        "\n",
        "    for year in range(2000, 2025):\n",
        "        # Create the ImageCollection object\n",
        "\n",
        "        CROS = ee.ImageCollection(\"USDA/NASS/CDL\") \\\n",
        "          .filterDate(str(year) + start, str(year) + end) \\\n",
        "          .filterBounds(AVA_geometry.__geo_interface__) \\\n",
        "\n",
        "        vineyards = CROS.select('Grapes')\n",
        "\n",
        "        PRISM = ee.ImageCollection('OREGONSTATE/PRISM/AN81d') \\\n",
        "          .filterDate(str(year) + start, str(year) + end) \\\n",
        "          .filterBounds(vineyards)\n",
        "\n",
        "        tmax = PRISM.select('tmax')\n",
        "        tmin = PRISM.select('tmin')\n",
        "        tmean = PRISM.select('tmean')\n",
        "\n",
        "\n",
        "        # Convert geopandas geometry to ee.Geometry for bounding box calculation\n",
        "        ee_AVA_geometry = ee.Geometry(AVA_geometry.__geo_interface__)\n",
        "\n",
        "        bbox = ee_AVA_geometry.bounds()\n",
        "        if bbox[1] <= 40:\n",
        "          d = 1.00\n",
        "        elif bbox[1] in range(40.01, 42.00):\n",
        "          d = 1.02\n",
        "        elif bbox[1] in range(42.01, 44.00):\n",
        "          d = 1.03\n",
        "        elif bbox[1] in range(44.01, 46.00):\n",
        "          d = 1.04\n",
        "        elif bbox[1] in range(46.01, 48.00):\n",
        "          d = 1.05\n",
        "        elif bbox[1] in range(48.01, 50.00):\n",
        "          d = 1.06\n",
        "\n",
        "\n",
        "\n",
        "        # To calculate GDD, you would typically map the calculate_GDD function\n",
        "        # over the image collection and then reduce the collection over time.\n",
        "        # For example:\n",
        "        # gdd_collection = dataset.map(calculate_GDD)\n",
        "        # total_gdd = gdd_collection.sum() # Sum GDD over the time period\n",
        "        # You would then need to extract the value from total_gdd for the AVA."
      ],
      "metadata": {
        "id": "14rYhvfCe8UD"
      },
      "execution_count": null,
      "outputs": []
    },
    {
      "cell_type": "code",
      "source": [
        "for AVA in shp:\n",
        "\n",
        "  year = 2000\n",
        "  start = '-04-01'\n",
        "  end = '-09-30'\n",
        "\n",
        "  for year in range(2000, 2025):\n",
        "    for AVA in shp:\n",
        "\n",
        "      dataset = ee.ImageCollection(('OREGONSTATE/PRISM/AN81d')\n",
        "      .filterDate(str(year) + start, str(year) + end)\n",
        "      .filterBounds(AVA))\n",
        "\n",
        "      tmax = dataset.select('tmax')\n",
        "      tmin = dataset.select('tmin')\n",
        "      tmean = dataset.select('tmean')\n",
        "\n",
        "\n",
        "\n",
        "      bbox = AVA.geometry().bounds()\n",
        "      print(bbox)\n",
        "      # def calculate_HI(image):"
      ],
      "metadata": {
        "id": "Od6O4_AlHuOx"
      },
      "execution_count": null,
      "outputs": []
    }
  ]
}